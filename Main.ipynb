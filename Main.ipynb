{
 "cells": [
  {
   "cell_type": "code",
   "execution_count": 2,
   "id": "ba29c165",
   "metadata": {},
   "outputs": [],
   "source": [
    "import pandas as pd\n",
    "\n",
    "md = pd.read_csv('../metadata.csv')\n",
    "\n",
    "#print(md)"
   ]
  },
  {
   "cell_type": "code",
   "execution_count": null,
   "id": "97e0a6fd",
   "metadata": {},
   "outputs": [],
   "source": [
    "#Definetly usefull comment"
   ]
  },
  {
   "cell_type": "code",
   "execution_count": null,
   "id": "695c717f",
   "metadata": {},
   "outputs": [],
   "source": [
    "#More Comments :D"
   ]
  }
 ],
 "metadata": {
  "kernelspec": {
   "display_name": "Python 3 (ipykernel)",
   "language": "python",
   "name": "python3"
  },
  "language_info": {
   "codemirror_mode": {
    "name": "ipython",
    "version": 3
   },
   "file_extension": ".py",
   "mimetype": "text/x-python",
   "name": "python",
   "nbconvert_exporter": "python",
   "pygments_lexer": "ipython3",
   "version": "3.9.7"
  }
 },
 "nbformat": 4,
 "nbformat_minor": 5
}
