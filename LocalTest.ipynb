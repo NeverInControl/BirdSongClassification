{
 "cells": [
  {
   "cell_type": "code",
   "execution_count": 1,
   "id": "784156bf",
   "metadata": {},
   "outputs": [],
   "source": [
    "### Way too many imports from previous attempts, clean up later\n",
    "\n",
    "from torch.utils.data import DataLoader, Dataset\n",
    "import torchvision.transforms as T\n",
    "import torch\n",
    "import torch.nn as nn\n",
    "import torch.nn.functional as F\n",
    "from time import sleep\n",
    "from tqdm.notebook import tqdm\n",
    "import cv2\n",
    "from torchvision.utils import make_grid\n",
    "from torchvision.utils import save_image\n",
    "from IPython.display import Image\n",
    "from PIL import Image\n",
    "import matplotlib.pyplot as plt\n",
    "import numpy as np\n",
    "import random\n",
    "import os\n",
    "import sklearn\n",
    "from sklearn.model_selection import train_test_split\n",
    "\n",
    "from fastai.callback.fp16 import to_fp16\n",
    "from fastai.callback.schedule import fit_one_cycle, lr_find \n",
    "\n",
    "from fastai.data.block import CategoryBlock, DataBlock\n",
    "from fastai.data.external import untar_data, URLs\n",
    "from fastai.data.transforms import get_image_files, Normalize, RandomSplitter, RegexLabeller\n",
    "\n",
    "from fastai.interpret import ClassificationInterpretation\n",
    "from fastai.learner import Learner # imports @patch'd properties to Learner including `save`, `load`, `freeze`, and `unfreeze`\n",
    "\n",
    "from fastai.metrics import error_rate\n",
    "\n",
    "from fastai.vision.all import *\n",
    "from fastai.vision.augment import *\n",
    "from fastai.vision.augment import aug_transforms, RandomResizedCrop\n",
    "from fastai.vision.core import imagenet_stats\n",
    "from fastai.vision.data import ImageDataLoaders, ImageBlock\n",
    "from fastai.vision.learner import cnn_learner\n",
    "\n",
    "from torchvision.models.resnet import resnet34, resnet50\n",
    "\n",
    "%matplotlib inline\n",
    "\n",
    "os.environ[\"KMP_DUPLICATE_LIB_OK\"]=\"TRUE\"  ## Very unelegant, fix dependency conflict later"
   ]
  },
  {
   "cell_type": "code",
   "execution_count": 3,
   "id": "8f51af31",
   "metadata": {},
   "outputs": [],
   "source": [
    "learn = load_learner('archive\\\\Saved models\\\\trained_model_50gen_no_soundscape.pkl', cpu=False)"
   ]
  },
  {
   "cell_type": "code",
   "execution_count": 17,
   "id": "33af254a",
   "metadata": {},
   "outputs": [
    {
     "data": {
      "text/html": [
       "\n",
       "<style>\n",
       "    /* Turns off some styling */\n",
       "    progress {\n",
       "        /* gets rid of default border in Firefox and Opera. */\n",
       "        border: none;\n",
       "        /* Needs to be in here for Safari polyfill so background images work as expected. */\n",
       "        background-size: auto;\n",
       "    }\n",
       "    progress:not([value]), progress:not([value])::-webkit-progress-bar {\n",
       "        background: repeating-linear-gradient(45deg, #7e7e7e, #7e7e7e 10px, #5c5c5c 10px, #5c5c5c 20px);\n",
       "    }\n",
       "    .progress-bar-interrupted, .progress-bar-interrupted::-webkit-progress-bar {\n",
       "        background: #F44336;\n",
       "    }\n",
       "</style>\n"
      ],
      "text/plain": [
       "<IPython.core.display.HTML object>"
      ]
     },
     "metadata": {},
     "output_type": "display_data"
    },
    {
     "data": {
      "text/html": [],
      "text/plain": [
       "<IPython.core.display.HTML object>"
      ]
     },
     "metadata": {},
     "output_type": "display_data"
    },
    {
     "name": "stdout",
     "output_type": "stream",
     "text": [
      "Red Crossbill 0.3460136651992798\n",
      "Cirl Bunting 0.28506043553352356\n",
      "Great Tit 0.11156166344881058\n",
      "Yellowhammer 0.06616785377264023\n",
      "Common Nightingale 0.05753693729639053\n"
     ]
    }
   ],
   "source": [
    "pred_class, pred_idxs, outputs = learn.predict('archive\\\\test_audio\\\\PNGS\\\\bs1.png')\n",
    "top_5_conf, i = outputs.topk(5)\n",
    "itr = 0\n",
    "classes = learn.dls.vocab\n",
    "for x in i:\n",
    "    print(classes[x.item()], top_5_conf[itr].item())\n",
    "    itr=itr+1"
   ]
  },
  {
   "cell_type": "code",
   "execution_count": 18,
   "id": "d9f769f9",
   "metadata": {},
   "outputs": [
    {
     "data": {
      "text/html": [
       "\n",
       "<style>\n",
       "    /* Turns off some styling */\n",
       "    progress {\n",
       "        /* gets rid of default border in Firefox and Opera. */\n",
       "        border: none;\n",
       "        /* Needs to be in here for Safari polyfill so background images work as expected. */\n",
       "        background-size: auto;\n",
       "    }\n",
       "    progress:not([value]), progress:not([value])::-webkit-progress-bar {\n",
       "        background: repeating-linear-gradient(45deg, #7e7e7e, #7e7e7e 10px, #5c5c5c 10px, #5c5c5c 20px);\n",
       "    }\n",
       "    .progress-bar-interrupted, .progress-bar-interrupted::-webkit-progress-bar {\n",
       "        background: #F44336;\n",
       "    }\n",
       "</style>\n"
      ],
      "text/plain": [
       "<IPython.core.display.HTML object>"
      ]
     },
     "metadata": {},
     "output_type": "display_data"
    },
    {
     "data": {
      "text/html": [],
      "text/plain": [
       "<IPython.core.display.HTML object>"
      ]
     },
     "metadata": {},
     "output_type": "display_data"
    },
    {
     "name": "stdout",
     "output_type": "stream",
     "text": [
      "European Robin 0.5730627775192261\n",
      "Eurasian Blue Tit 0.3553371727466583\n",
      "Yellowhammer 0.03341713175177574\n",
      "Song Thrush 0.025767900049686432\n",
      "Eurasian Wren 0.003973379265516996\n"
     ]
    }
   ],
   "source": [
    "pred_class, pred_idxs, outputs = learn.predict('archive\\\\test_audio\\\\PNGS\\\\bs2.png')\n",
    "top_5_conf, i = outputs.topk(5)\n",
    "itr = 0\n",
    "classes = learn.dls.vocab\n",
    "for x in i:\n",
    "    print(classes[x.item()], top_5_conf[itr].item())\n",
    "    itr=itr+1"
   ]
  },
  {
   "cell_type": "code",
   "execution_count": 19,
   "id": "a4054e1d",
   "metadata": {},
   "outputs": [
    {
     "data": {
      "text/html": [
       "\n",
       "<style>\n",
       "    /* Turns off some styling */\n",
       "    progress {\n",
       "        /* gets rid of default border in Firefox and Opera. */\n",
       "        border: none;\n",
       "        /* Needs to be in here for Safari polyfill so background images work as expected. */\n",
       "        background-size: auto;\n",
       "    }\n",
       "    progress:not([value]), progress:not([value])::-webkit-progress-bar {\n",
       "        background: repeating-linear-gradient(45deg, #7e7e7e, #7e7e7e 10px, #5c5c5c 10px, #5c5c5c 20px);\n",
       "    }\n",
       "    .progress-bar-interrupted, .progress-bar-interrupted::-webkit-progress-bar {\n",
       "        background: #F44336;\n",
       "    }\n",
       "</style>\n"
      ],
      "text/plain": [
       "<IPython.core.display.HTML object>"
      ]
     },
     "metadata": {},
     "output_type": "display_data"
    },
    {
     "data": {
      "text/html": [],
      "text/plain": [
       "<IPython.core.display.HTML object>"
      ]
     },
     "metadata": {},
     "output_type": "display_data"
    },
    {
     "name": "stdout",
     "output_type": "stream",
     "text": [
      "Eurasian Blue Tit 0.7203285694122314\n",
      "European Robin 0.1321072280406952\n",
      "Ortolan Bunting 0.0758124589920044\n",
      "Song Thrush 0.04202919825911522\n",
      "Yellowhammer 0.014290444552898407\n"
     ]
    }
   ],
   "source": [
    "pred_class, pred_idxs, outputs = learn.predict('archive\\\\test_audio\\\\PNGS\\\\bs3.png')\n",
    "top_5_conf, i = outputs.topk(5)\n",
    "itr = 0\n",
    "classes = learn.dls.vocab\n",
    "for x in i:\n",
    "    print(classes[x.item()], top_5_conf[itr].item())\n",
    "    itr=itr+1"
   ]
  },
  {
   "cell_type": "code",
   "execution_count": null,
   "id": "449dc244",
   "metadata": {},
   "outputs": [],
   "source": []
  }
 ],
 "metadata": {
  "kernelspec": {
   "display_name": "Python 3 (ipykernel)",
   "language": "python",
   "name": "python3"
  },
  "language_info": {
   "codemirror_mode": {
    "name": "ipython",
    "version": 3
   },
   "file_extension": ".py",
   "mimetype": "text/x-python",
   "name": "python",
   "nbconvert_exporter": "python",
   "pygments_lexer": "ipython3",
   "version": "3.10.4"
  }
 },
 "nbformat": 4,
 "nbformat_minor": 5
}
